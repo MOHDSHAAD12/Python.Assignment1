{
 "cells": [
  {
   "cell_type": "markdown",
   "id": "3c5eb980-00cd-475f-a247-a806e8c905c7",
   "metadata": {},
   "source": [
    "Q1. In the below elements which of them are values or an expression? eg:- values can be\n",
    "integer or string and expressions will be mathematical operators.\n",
    "*\n",
    "&#39;hello&#39;\n",
    "-87.8\n",
    "-\n",
    "/\n",
    "+\n",
    "6\n",
    "solution:-\n",
    "element\t value/expression\n",
    "*\t      expression\n",
    "'hello'    value\n",
    "-87.8\t   value\n",
    "-\t    expression\n",
    "/\t    expression\n",
    "+\t    expression\n",
    "6\t    value"
   ]
  },
  {
   "cell_type": "markdown",
   "id": "3cb75584-1b8a-4c15-b886-3000d8c8c4ee",
   "metadata": {},
   "source": [
    "Q2. What is the difference between string and variable?\n",
    "\n",
    "Ans:- String:\n",
    "A string is a collection of characters enclosed within single ' or \" quotation marks.\n",
    "String is of Sequence data type.\n",
    "\n",
    "Variable:\n",
    "A variable is a name to which any value can be assigned.\n",
    "A variable can be of type integer or string or boolean etc.\n"
   ]
  },
  {
   "cell_type": "code",
   "execution_count": 1,
   "id": "b0bec3e1-2681-4527-8b78-0070aebf5244",
   "metadata": {},
   "outputs": [
    {
     "name": "stdout",
     "output_type": "stream",
     "text": [
      "<class 'str'>\n"
     ]
    }
   ],
   "source": [
    "# initializing a string\n",
    "\n",
    "my_name = \"shadab\"\n",
    "print(type(my_name))"
   ]
  },
  {
   "cell_type": "code",
   "execution_count": 2,
   "id": "05507ddd-191f-4c55-93a9-a789ea5d4197",
   "metadata": {},
   "outputs": [
    {
     "name": "stdout",
     "output_type": "stream",
     "text": [
      "<class 'str'> <class 'int'>\n"
     ]
    }
   ],
   "source": [
    "# initializing a string type variable\n",
    "my_name = \"Shadab\"\n",
    "\n",
    "# initializing a integer type variable\n",
    "my_age = 22\n",
    "\n",
    "print(type(my_name), type(my_age))"
   ]
  },
  {
   "cell_type": "markdown",
   "id": "267e5be6-9cb2-4683-9e7b-0bf5ce9f5247",
   "metadata": {},
   "source": [
    "Q3. Describe three different data types.\n",
    "\n",
    "Ans:-\n",
    "1. Numeric Data types:-\n",
    "It represents the data that has a numeric value.\n",
    "The main numeric data types are,\n",
    "a. Integers\n",
    "b. Floating-point\n",
    "c. Complex Numbers\n",
    "2. Boolean Data type\n",
    "Boolean data type have two values either True or False.\n",
    "Used to determine whether logic of a comparison is correct.\n",
    "3. Sequence Data type\n",
    "Sequence data type are collection of similar or different data types values.\n",
    "a)List\n",
    "It is a collection which is ordered and changeable. Allows duplicate members.\n",
    "\n",
    "b)Tuple\n",
    "It is a collection which is ordered and unchangeable. Allows duplicate members."
   ]
  },
  {
   "cell_type": "code",
   "execution_count": 3,
   "id": "e5bd373f-470b-498e-8122-76a669f898a7",
   "metadata": {},
   "outputs": [
    {
     "name": "stdout",
     "output_type": "stream",
     "text": [
      "55\n",
      "-12.231\n",
      "(2+2j)\n"
     ]
    }
   ],
   "source": [
    "# Numeric Data types examples\n",
    "\n",
    "print(55)       # integer type\n",
    "print(-12.231)  # floating point number\n",
    "print(complex(2, 2))    # represents (2+2j), complex number"
   ]
  },
  {
   "cell_type": "code",
   "execution_count": 4,
   "id": "1e994c15-665d-4610-8ff0-18078c47da78",
   "metadata": {},
   "outputs": [
    {
     "name": "stdout",
     "output_type": "stream",
     "text": [
      "True\n",
      "False\n"
     ]
    }
   ],
   "source": [
    "# Boolean Data types example\n",
    "\n",
    "print(10>9)     # results `True`\n",
    "print(99<11)    # results `False`"
   ]
  },
  {
   "cell_type": "code",
   "execution_count": 11,
   "id": "b839aac4-44a1-4ac9-8465-636d3bb15de2",
   "metadata": {},
   "outputs": [
    {
     "name": "stdout",
     "output_type": "stream",
     "text": [
      "['apple', 'banana', 'cherry']\n",
      "('apple', 'banana', 'cherry')\n"
     ]
    }
   ],
   "source": [
    "# Sequence Data types example\n",
    "\n",
    "thislist = [\"apple\", \"banana\", \"cherry\"]  #List Data Type\n",
    "print(thislist)\n",
    "\n",
    "\n",
    "thistuple = (\"apple\", \"banana\", \"cherry\") #Tuple Data Type\n",
    "print(thistuple)\n",
    "\n"
   ]
  },
  {
   "cell_type": "markdown",
   "id": "8949d327-f4c8-4866-ac4a-00cceb6eba6a",
   "metadata": {},
   "source": [
    "Q4. What is an expression made up of? What do all expressions do?\n",
    "\n",
    "Ans:-\n",
    "     Expression is a combination of values, variables, operators or function calls. Expression is something that needs to be evaluated by the interpreter that produces a value."
   ]
  },
  {
   "cell_type": "markdown",
   "id": "8368b444-507a-4900-b736-d38526cff9dd",
   "metadata": {},
   "source": [
    "Q5. This assignment statements, like spam = 10. What is the difference between an\n",
    "expression and a statement?\n",
    "\n",
    "Ans:- \n",
    "a)An expression evaluates to a single value. A statement does not.\n",
    "\n",
    "b)Statements represent an action or command e.g print statements, assignment statements.\n",
    "print 'hello', x = 1, spam = 10.\n",
    "\n",
    "whereas\n",
    "\n",
    "Expression is a combination of variables, operations and values that yields a result value.\n",
    "\n",
    "\n"
   ]
  },
  {
   "cell_type": "markdown",
   "id": "873a4186-e444-474f-8014-7e4b202a7703",
   "metadata": {},
   "source": [
    "Q6. After running the following code, what does the variable bacon contain?\n",
    "bacon = 22\n",
    "bacon + 1"
   ]
  },
  {
   "cell_type": "code",
   "execution_count": 2,
   "id": "5059be55-e567-4faa-8faa-5bfad9d82457",
   "metadata": {},
   "outputs": [
    {
     "data": {
      "text/plain": [
       "23"
      ]
     },
     "execution_count": 2,
     "metadata": {},
     "output_type": "execute_result"
    }
   ],
   "source": [
    "bacon = 22\n",
    "bacon + 1\n"
   ]
  },
  {
   "cell_type": "code",
   "execution_count": 3,
   "id": "10e64638-aa84-4c75-b0b1-b8eef02b7a62",
   "metadata": {},
   "outputs": [
    {
     "name": "stdout",
     "output_type": "stream",
     "text": [
      "22\n"
     ]
    }
   ],
   "source": [
    "print(bacon)"
   ]
  },
  {
   "cell_type": "markdown",
   "id": "d703bbcc-7a90-40a7-a0f9-76584a293048",
   "metadata": {},
   "source": [
    "Q7. What should the values of the following two terms be?\n",
    "\n",
    "'spam' + 'spamspam' \n",
    "'spam' * 3"
   ]
  },
  {
   "cell_type": "code",
   "execution_count": 4,
   "id": "77615bfc-2460-48ab-b59e-d15e4914f0a3",
   "metadata": {},
   "outputs": [
    {
     "data": {
      "text/plain": [
       "'spamspamspam'"
      ]
     },
     "execution_count": 4,
     "metadata": {},
     "output_type": "execute_result"
    }
   ],
   "source": [
    "'spam' + 'spamspam'"
   ]
  },
  {
   "cell_type": "code",
   "execution_count": 5,
   "id": "2debe39e-f4be-48a3-af3c-753db54bf79e",
   "metadata": {},
   "outputs": [
    {
     "data": {
      "text/plain": [
       "'spamspamspam'"
      ]
     },
     "execution_count": 5,
     "metadata": {},
     "output_type": "execute_result"
    }
   ],
   "source": [
    "'spam' * 3"
   ]
  },
  {
   "cell_type": "markdown",
   "id": "898cd009-8a1e-4a53-8406-5dda8e4b12eb",
   "metadata": {},
   "source": [
    "Q8. Why is eggs a valid variable name while 100 is invalid?\n",
    "\n",
    "Ans:- Because variable names cannot begin with a number.\n",
    "\n",
    "\n"
   ]
  },
  {
   "cell_type": "markdown",
   "id": "a9c41b7c-45d7-4e7f-9131-b79d4f8b4983",
   "metadata": {},
   "source": [
    "Q9. What three functions can be used to get the integer, floating-point number, or string\n",
    "version of a value?\n",
    "\n",
    "Ans:- The int(), float(), and str() functions will evaluate to the integer, floating-point number, and string versions of the value passed to them.\n",
    "\n"
   ]
  },
  {
   "cell_type": "markdown",
   "id": "5573b4f3-92da-4faa-8fea-2f7881286554",
   "metadata": {},
   "source": [
    "Q10. Why does this expression cause an error? How can you fix it?\n",
    "'I have eaten ' + 99 + ' burritos.'\n",
    "Ans:- The expression causes an error because 99 is an integer, and only strings can be concatenated to other strings with the + operator. The correct way is I have eaten ' + str(99) + ' burritos.'"
   ]
  }
 ],
 "metadata": {
  "kernelspec": {
   "display_name": "Python 3 (ipykernel)",
   "language": "python",
   "name": "python3"
  },
  "language_info": {
   "codemirror_mode": {
    "name": "ipython",
    "version": 3
   },
   "file_extension": ".py",
   "mimetype": "text/x-python",
   "name": "python",
   "nbconvert_exporter": "python",
   "pygments_lexer": "ipython3",
   "version": "3.10.6"
  }
 },
 "nbformat": 4,
 "nbformat_minor": 5
}
